{
  "nbformat": 4,
  "nbformat_minor": 0,
  "metadata": {
    "colab": {
      "provenance": []
    },
    "kernelspec": {
      "name": "python3",
      "display_name": "Python 3"
    },
    "language_info": {
      "name": "python"
    }
  },
  "cells": [
    {
      "cell_type": "markdown",
      "source": [
        "###ETL com Python\n",
        "\n",
        "Base de dados: [Agentes/suspeitos identificados em crimes registados, segundo o escalão etário, por crime](https://dados.gov.pt/pt/datasets/agentes-suspeitos-identificados-em-crimes-registados-segundo-o-escalao-etario-por-crime/).\n",
        "\n",
        "###Descrição:\n",
        "\n",
        "Dimensões: Ano, tipo crime (nível 1), tipo crime (nível 2), tipo crime (nível 3), escalão etário.\n",
        "\n",
        "Métricas: Número de intervenientes."
      ],
      "metadata": {
        "id": "sSVTxoCj09GT"
      }
    },
    {
      "cell_type": "code",
      "execution_count": null,
      "metadata": {
        "id": "ewjp5_oYQWVR"
      },
      "outputs": [],
      "source": [
        "!pip install azure-storage-blob"
      ]
    },
    {
      "cell_type": "code",
      "source": [
        "!pip install ydata-profiling"
      ],
      "metadata": {
        "id": "AZS35Oyipm5u"
      },
      "execution_count": null,
      "outputs": []
    },
    {
      "cell_type": "code",
      "source": [
        "from azure.storage.blob import BlobServiceClient, BlobClient, generate_blob_sas, BlobSasPermissions\n",
        "import pandas as pd\n",
        "import numpy as np\n",
        "import os\n",
        "from datetime import datetime, timedelta\n",
        "import requests\n",
        "from ydata_profiling import ProfileReport\n",
        "import matplotlib.pyplot as plt"
      ],
      "metadata": {
        "id": "6DOzSLRDWHXP"
      },
      "execution_count": 3,
      "outputs": []
    },
    {
      "cell_type": "code",
      "source": [
        "pd.set_option('display.max_rows', None)"
      ],
      "metadata": {
        "id": "_ymnZkzlnaIv"
      },
      "execution_count": 4,
      "outputs": []
    },
    {
      "cell_type": "markdown",
      "source": [
        "##Extract\n",
        "\n",
        "Extraindo base de dados de um armazenamento de blob do azure."
      ],
      "metadata": {
        "id": "bvibr1GiqCs_"
      }
    },
    {
      "cell_type": "code",
      "source": [
        "# Não esqueça de substituir com as suas informações!!!\n",
        "account_name = 'account_name'\n",
        "account_key = 'account_key'\n",
        "container_name = 'container_name'\n",
        "blob_name = 'blob_name'\n",
        "\n",
        "# Definir validade SAS\n",
        "sas_expiry = datetime.utcnow() + timedelta(hours=1)\n",
        "\n",
        "# Permissões necessárias para a SAS (leitura, escrita)\n",
        "permissions = BlobSasPermissions(read=True, write=True)\n",
        "\n",
        "# Gerar a SAS para o blob\n",
        "sas_token = generate_blob_sas(\n",
        "    account_name=account_name,\n",
        "    container_name=container_name,\n",
        "    blob_name=blob_name,\n",
        "    account_key=account_key,\n",
        "    permission=permissions,\n",
        "    expiry=sas_expiry\n",
        ")\n",
        "\n",
        "# Observação: Esse é um processo feito de forma manual, você pode gerar Token SAS dentro do ambiente azure!.\n",
        "print(\"Token SAS para o blob:\")\n",
        "print(sas_token)"
      ],
      "metadata": {
        "id": "yngPMtY8VGCR"
      },
      "execution_count": null,
      "outputs": []
    },
    {
      "cell_type": "code",
      "source": [
        "blob_url = f\"https://{account_name}.blob.core.windows.net/{container_name}/{blob_name}\"\n",
        "# Adicionar SAS ao URL do blob\n",
        "sas_blob_url = f\"{blob_url}?{sas_token}\"\n",
        "print(\"URL do blob com SAS:\")\n",
        "print(sas_blob_url)"
      ],
      "metadata": {
        "id": "qeyry1hcXaAs"
      },
      "execution_count": null,
      "outputs": []
    },
    {
      "cell_type": "code",
      "source": [
        "sas_blob_url = \"link da url sas\" # <--- Substitua a informação."
      ],
      "metadata": {
        "id": "ux4aruK6YY42"
      },
      "execution_count": 7,
      "outputs": []
    },
    {
      "cell_type": "markdown",
      "source": [
        "## Análise DataFrame\n",
        "\n",
        "Gerando um relatório para uma rápida análise."
      ],
      "metadata": {
        "id": "i_CT986PnqtN"
      }
    },
    {
      "cell_type": "code",
      "source": [
        "df = pd.read_csv(sas_blob_url, delimiter=';')"
      ],
      "metadata": {
        "id": "joxcARjkYQyL"
      },
      "execution_count": 8,
      "outputs": []
    },
    {
      "cell_type": "code",
      "source": [
        "df.head(5)"
      ],
      "metadata": {
        "id": "CQ1W_g4kcCY-"
      },
      "execution_count": null,
      "outputs": []
    },
    {
      "cell_type": "code",
      "source": [
        "df.info()"
      ],
      "metadata": {
        "id": "Oddpc_00c5Cl"
      },
      "execution_count": null,
      "outputs": []
    },
    {
      "cell_type": "code",
      "source": [
        "# relatório do dataframe\n",
        "profile = ProfileReport(df)\n",
        "profile.to_file(\"relatorio.html\")"
      ],
      "metadata": {
        "id": "uw-4NddapyuQ"
      },
      "execution_count": null,
      "outputs": []
    },
    {
      "cell_type": "markdown",
      "source": [
        "## Transform\n",
        "\n",
        "Transformando os dados!"
      ],
      "metadata": {
        "id": "bwb38jMIc2Yl"
      }
    },
    {
      "cell_type": "code",
      "source": [
        "df.drop('NumeroIntervenientes', axis=1, inplace=True)"
      ],
      "metadata": {
        "id": "BUOcwgWrkTvn"
      },
      "execution_count": 12,
      "outputs": []
    },
    {
      "cell_type": "code",
      "source": [
        "filtro_total = df[['TipoCrimeN1',\t'TipoCrimeN2',\t'TipoCrimeN3',\t'EscalaoEtario']].apply(lambda col: col.str.contains('Total', case=False))\n",
        "linhas_com_total = filtro_total.all(axis=1)\n",
        "df_filtrado = df[~linhas_com_total].replace('Total', np.nan)"
      ],
      "metadata": {
        "id": "j7cP-LU_n6Jq"
      },
      "execution_count": 13,
      "outputs": []
    },
    {
      "cell_type": "code",
      "source": [
        "df_filtrado.info()"
      ],
      "metadata": {
        "id": "KCcMeWvleT3l"
      },
      "execution_count": null,
      "outputs": []
    },
    {
      "cell_type": "code",
      "source": [
        "df_filtrado.to_csv('agentessuspeitosTV10.csv', index=False)"
      ],
      "metadata": {
        "id": "xHg5guuntMFY"
      },
      "execution_count": 15,
      "outputs": []
    },
    {
      "cell_type": "markdown",
      "source": [
        "##Load\n",
        "\n",
        "Carregando os dados transformados para o ambiente azure."
      ],
      "metadata": {
        "id": "8b3uWI95tBVk"
      }
    },
    {
      "cell_type": "code",
      "source": [
        "local_file_path = \"/content/agentessuspeitosTV10.csv\"\n",
        "\n",
        "# Realizando a requisição POST para enviar o arquivo\n",
        "with open(local_file_path, \"rb\") as f:\n",
        "    response = requests.put(sas_blob_url, data=f, headers={\"x-ms-blob-type\": \"BlockBlob\", \"Content-Type\": \"application/octet-stream\"})\n",
        "\n",
        "if response.status_code == 201:\n",
        "    print(\"Arquivo carregado com sucesso!\")\n",
        "else:\n",
        "    print(\"Falha ao carregar o arquivo. Código de status:\", response.status_code)"
      ],
      "metadata": {
        "id": "bx7SSM2qaFBn"
      },
      "execution_count": null,
      "outputs": []
    }
  ]
}